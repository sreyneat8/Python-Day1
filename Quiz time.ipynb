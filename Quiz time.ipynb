{
 "cells": [
  {
   "cell_type": "code",
   "execution_count": 6,
   "id": "ff0cbd7e",
   "metadata": {},
   "outputs": [
    {
     "name": "stdout",
     "output_type": "stream",
     "text": [
      "Hello\n",
      "Please enter your name: sreyneat\n",
      "Hello sreyneat\n"
     ]
    }
   ],
   "source": [
    "print('Hello')\n",
    "name = input(\"Please enter your name: \")\n",
    "print(f\"Hello {name}\")"
   ]
  },
  {
   "cell_type": "code",
   "execution_count": 9,
   "id": "a5c50552",
   "metadata": {},
   "outputs": [
    {
     "name": "stdout",
     "output_type": "stream",
     "text": [
      "We have a room with:\n",
      "the width is: 2\n",
      "and the length is: 3.4\n",
      "The area is: 6.8\n"
     ]
    }
   ],
   "source": [
    "print('We have a room with:')\n",
    "width = input(\"the width is: \")\n",
    "length = input(\"and the length is: \")\n",
    "area = float(width)*float(length)\n",
    "print(f\"The area is: {area}\")"
   ]
  },
  {
   "cell_type": "code",
   "execution_count": 12,
   "id": "84227a64",
   "metadata": {},
   "outputs": [
    {
     "name": "stdout",
     "output_type": "stream",
     "text": [
      "We have a room with:\n",
      "the width is: 100\n",
      "and the length is: 100\n",
      "The acres is: 0.2295684113865932\n"
     ]
    }
   ],
   "source": [
    "print('We have a room with:')\n",
    "width = input(\"the width is: \")\n",
    "length = input(\"and the length is: \")\n",
    "area = float(width)*float(length)\n",
    "acre = area/43560\n",
    "print(f\"The acres is: {acre}\")"
   ]
  },
  {
   "cell_type": "code",
   "execution_count": 15,
   "id": "9bf2bdba",
   "metadata": {},
   "outputs": [
    {
     "name": "stdout",
     "output_type": "stream",
     "text": [
      "The numbeer for computing:5\n",
      "The sum of 1 to n number is:15.0\n"
     ]
    }
   ],
   "source": [
    "num = input('The numbeer for computing:')\n",
    "n = int(num)\n",
    "sum = (n/2)*(n+1)\n",
    "print(f'The sum of 1 to n number is:{sum}')"
   ]
  },
  {
   "cell_type": "code",
   "execution_count": null,
   "id": "9f19f6d8",
   "metadata": {},
   "outputs": [],
   "source": []
  }
 ],
 "metadata": {
  "kernelspec": {
   "display_name": "Python 3 (ipykernel)",
   "language": "python",
   "name": "python3"
  },
  "language_info": {
   "codemirror_mode": {
    "name": "ipython",
    "version": 3
   },
   "file_extension": ".py",
   "mimetype": "text/x-python",
   "name": "python",
   "nbconvert_exporter": "python",
   "pygments_lexer": "ipython3",
   "version": "3.9.13"
  }
 },
 "nbformat": 4,
 "nbformat_minor": 5
}
